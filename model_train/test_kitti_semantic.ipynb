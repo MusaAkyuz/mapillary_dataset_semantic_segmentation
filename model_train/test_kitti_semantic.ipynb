{
 "cells": [
  {
   "cell_type": "code",
   "execution_count": 2,
   "metadata": {},
   "outputs": [],
   "source": [
    "import os\n",
    "import numpy as np\n",
    "import cv2\n",
    "from matplotlib import pyplot as plt\n",
    "from keras.preprocessing.image import ImageDataGenerator\n",
    "import glob\n",
    "import skimage.io as io\n",
    "import skimage.transform as trans"
   ]
  },
  {
   "cell_type": "code",
   "execution_count": 3,
   "metadata": {},
   "outputs": [
    {
     "name": "stdout",
     "output_type": "stream",
     "text": [
      "train_img shape :  (256, 256, 3)\n"
     ]
    }
   ],
   "source": [
    "# Trainig image shapes control\n",
    "train_img = cv2.imread(\"./kitti_pixel_level_semantic/prepared_data/training/image/000000_10.png\")\n",
    "print(\"train_img shape : \", train_img.shape)"
   ]
  },
  {
   "cell_type": "code",
   "execution_count": 4,
   "metadata": {},
   "outputs": [
    {
     "data": {
      "text/plain": [
       "array([[[ 21,  21,  21],\n",
       "        [ 16,  16,  16],\n",
       "        [ 15,  15,  15],\n",
       "        ...,\n",
       "        [255, 255, 255],\n",
       "        [253, 253, 253],\n",
       "        [216, 216, 216]],\n",
       "\n",
       "       [[ 25,  25,  25],\n",
       "        [ 19,  19,  19],\n",
       "        [ 15,  15,  15],\n",
       "        ...,\n",
       "        [255, 255, 255],\n",
       "        [253, 253, 253],\n",
       "        [221, 221, 221]],\n",
       "\n",
       "       [[ 26,  26,  26],\n",
       "        [ 24,  24,  24],\n",
       "        [ 17,  17,  17],\n",
       "        ...,\n",
       "        [255, 255, 255],\n",
       "        [253, 253, 253],\n",
       "        [229, 229, 229]],\n",
       "\n",
       "       ...,\n",
       "\n",
       "       [[ 35,  35,  35],\n",
       "        [ 33,  33,  33],\n",
       "        [ 35,  35,  35],\n",
       "        ...,\n",
       "        [ 16,  16,  16],\n",
       "        [ 17,  17,  17],\n",
       "        [ 21,  21,  21]],\n",
       "\n",
       "       [[ 36,  36,  36],\n",
       "        [ 35,  35,  35],\n",
       "        [ 36,  36,  36],\n",
       "        ...,\n",
       "        [ 12,  12,  12],\n",
       "        [ 13,  13,  13],\n",
       "        [ 15,  15,  15]],\n",
       "\n",
       "       [[ 35,  35,  35],\n",
       "        [ 37,  37,  37],\n",
       "        [ 37,  37,  37],\n",
       "        ...,\n",
       "        [ 11,  11,  11],\n",
       "        [ 14,  14,  14],\n",
       "        [ 13,  13,  13]]], dtype=uint8)"
      ]
     },
     "execution_count": 4,
     "metadata": {},
     "output_type": "execute_result"
    }
   ],
   "source": [
    "train_img"
   ]
  },
  {
   "cell_type": "code",
   "execution_count": 5,
   "metadata": {},
   "outputs": [],
   "source": [
    "from keras.models import *\n",
    "model = load_model(\"../model_22.h5\")"
   ]
  },
  {
   "cell_type": "code",
   "execution_count": 16,
   "metadata": {},
   "outputs": [
    {
     "data": {
      "text/plain": [
       "True"
      ]
     },
     "execution_count": 16,
     "metadata": {},
     "output_type": "execute_result"
    }
   ],
   "source": [
    "\n",
    "# Load the input image\n",
    "img_path = '../road4..jpg'\n",
    "input_image = cv2.imread(img_path)\n",
    "input_image = cv2.cvtColor(input_image, cv2.COLOR_BGR2GRAY)\n",
    "input_image = cv2.resize(input_image, (256,256), interpolation=cv2.INTER_NEAREST)\n",
    "cv2.imwrite('../input_image.png', input_image)"
   ]
  },
  {
   "cell_type": "code",
   "execution_count": 17,
   "metadata": {},
   "outputs": [
    {
     "name": "stdout",
     "output_type": "stream",
     "text": [
      "resim boyutu (256, 256)\n",
      "resim boyutu (256, 256, 1)\n",
      "1/1 [==============================] - 1s 740ms/step\n"
     ]
    }
   ],
   "source": [
    "\n",
    "\n",
    "img = io.imread(\"../input_image.png\",as_gray = True)\n",
    "print(\"resim boyutu\", img.shape)\n",
    "img = img / 255\n",
    "img = trans.resize(img,(256,256))\n",
    "img = np.reshape(img,img.shape+(1,)) if (not False) else img\n",
    "img = np.reshape(img, img.shape)\n",
    "print(\"resim boyutu\", img.shape)\n",
    "\n",
    "# Perform segmentation\n",
    "segmented_image = model.predict(np.expand_dims(img, axis=0))\n",
    "segmented_image = np.squeeze(segmented_image)  # Remove the batch dimension if present\n",
    "\n",
    "# Post-process the segmented image (if needed)\n",
    "# ...\n",
    "\n",
    "# Visualize the segmented image\n",
    "cv2.imshow('Segmented Image', segmented_image)\n",
    "cv2.waitKey(0)\n",
    "cv2.destroyAllWindows()"
   ]
  }
 ],
 "metadata": {
  "kernelspec": {
   "display_name": "Python 3",
   "language": "python",
   "name": "python3"
  },
  "language_info": {
   "codemirror_mode": {
    "name": "ipython",
    "version": 3
   },
   "file_extension": ".py",
   "mimetype": "text/x-python",
   "name": "python",
   "nbconvert_exporter": "python",
   "pygments_lexer": "ipython3",
   "version": "3.11.3"
  },
  "orig_nbformat": 4
 },
 "nbformat": 4,
 "nbformat_minor": 2
}
