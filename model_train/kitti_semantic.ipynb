{
  "cells": [
    {
      "cell_type": "code",
      "execution_count": 2,
      "metadata": {
        "id": "rw7XH3q3hKf9"
      },
      "outputs": [],
      "source": [
        "import os\n",
        "import numpy as np\n",
        "import cv2\n",
        "from matplotlib import pyplot as plt\n",
        "from keras.preprocessing.image import ImageDataGenerator\n",
        "import glob\n",
        "import skimage.io as io\n",
        "import skimage.transform as trans"
      ]
    },
    {
      "cell_type": "code",
      "execution_count": null,
      "metadata": {
        "id": "MfsSV_OmiDkz"
      },
      "outputs": [],
      "source": [
        "# Converted to use for OPENCV (BGR)\n",
        "CAR = (142, 0, 0)\n",
        "ROAD = (128, 64, 128)\n",
        "BUILDING = (70, 70, 70)\n",
        "UNLABELED = (0, 0, 0)\n",
        "EGO_VEHICLE = (0, 0, 0)\n",
        "POLE = (153, 153, 153)"
      ]
    },
    {
      "cell_type": "code",
      "execution_count": null,
      "metadata": {
        "id": "8hBek7GUsPHE"
      },
      "outputs": [],
      "source": [
        "PREPARED_DATA_TRAIN_IMAGES = \"kitti_pixel_level_semantic/prepared_data/training/image/\"\n",
        "PREPARED_DATA_TRAIN_MASKS = \"kitti_pixel_level_semantic/prepared_data/training/mask/\"\n",
        "PREPARED_DATA_TEST_IMAGES = \"kitti_pixel_level_semantic/prepared_data/testing/image/\""
      ]
    },
    {
      "cell_type": "code",
      "execution_count": null,
      "metadata": {
        "colab": {
          "base_uri": "https://localhost:8080/",
          "height": 452
        },
        "id": "TY5exWQxirTv",
        "outputId": "2ad28c5f-4091-413e-e5ba-6722fcdf1056"
      },
      "outputs": [
        {
          "data": {
            "text/plain": [
              "<matplotlib.image.AxesImage at 0x7f6a973f2c80>"
            ]
          },
          "execution_count": 5,
          "metadata": {},
          "output_type": "execute_result"
        },
        {
          "data": {
            "image/png": "[encoded data removed]",
            "text/plain": [
              "<Figure size 640x480 with 1 Axes>"
            ]
          },
          "metadata": {},
          "output_type": "display_data"
        }
      ],
      "source": [
        "img = os.path.join(PREPARED_DATA_TRAIN_MASKS, \"000000_10.png\")\n",
        "img = cv2.imread(img)\n",
        "plt.imshow(img)"
      ]
    },
    {
      "cell_type": "code",
      "execution_count": null,
      "metadata": {
        "id": "dg6SSmZEwlSD"
      },
      "outputs": [],
      "source": [
        "def adjustData(img,mask,flag_multi_class,num_class):\n",
        "    if(flag_multi_class):\n",
        "        img = img / 255\n",
        "        mask = mask[:,:,:,0] if(len(mask.shape) == 4) else mask[:,:,0]\n",
        "        new_mask = np.zeros(mask.shape + (num_class,))\n",
        "        for i in range(num_class):\n",
        "            #for one pixel in the image, find the class in mask and convert it into one-hot vector\n",
        "            #index = np.where(mask == i)\n",
        "            #index_mask = (index[0],index[1],index[2],np.zeros(len(index[0]),dtype = np.int64) + i) if (len(mask.shape) == 4) else (index[0],index[1],np.zeros(len(index[0]),dtype = np.int64) + i)\n",
        "            #new_mask[index_mask] = 1\n",
        "            new_mask[mask == i,i] = 1\n",
        "        new_mask = np.reshape(new_mask,(new_mask.shape[0],new_mask.shape[1]*new_mask.shape[2],new_mask.shape[3])) if flag_multi_class else np.reshape(new_mask,(new_mask.shape[0]*new_mask.shape[1],new_mask.shape[2]))\n",
        "        mask = new_mask\n",
        "    elif(np.max(img) > 1):\n",
        "        img = img / 255\n",
        "        mask = mask /255\n",
        "        mask[mask > 0.5] = 1\n",
        "        mask[mask <= 0.5] = 0\n",
        "    return (img,mask)\n",
        "\n",
        "\n"
      ]
    },
    {
      "cell_type": "code",
      "execution_count": null,
      "metadata": {
        "id": "KxpwSuNZxGSd"
      },
      "outputs": [],
      "source": [
        "\n",
        "def trainGenerator(batch_size,train_path,image_folder,mask_folder,aug_dict,image_color_mode = \"grayscale\",\n",
        "                    mask_color_mode = \"grayscale\",image_save_prefix  = \"image\",mask_save_prefix  = \"mask\",\n",
        "                    flag_multi_class = False,num_class = 2,save_to_dir = None,target_size = (256,256),seed = 1):\n",
        "    '''\n",
        "    can generate image and mask at the same time\n",
        "    use the same seed for image_datagen and mask_datagen to ensure the transformation for image and mask is the same\n",
        "    if you want to visualize the results of generator, set save_to_dir = \"your path\"\n",
        "    '''\n",
        "    image_datagen = ImageDataGenerator(**aug_dict)\n",
        "    mask_datagen = ImageDataGenerator(**aug_dict)\n",
        "    image_generator = image_datagen.flow_from_directory(\n",
        "        train_path,\n",
        "        classes = [image_folder],\n",
        "        class_mode = None,\n",
        "        color_mode = image_color_mode,\n",
        "        target_size = target_size,\n",
        "        batch_size = batch_size,\n",
        "        save_to_dir = save_to_dir,\n",
        "        save_prefix  = image_save_prefix,\n",
        "        seed = seed)\n",
        "    mask_generator = mask_datagen.flow_from_directory(\n",
        "        train_path,\n",
        "        classes = [mask_folder],\n",
        "        class_mode = None,\n",
        "        color_mode = mask_color_mode,\n",
        "        target_size = target_size,\n",
        "        batch_size = batch_size,\n",
        "        save_to_dir = save_to_dir,\n",
        "        save_prefix  = mask_save_prefix,\n",
        "        seed = seed)\n",
        "    train_generator = zip(image_generator, mask_generator)\n",
        "    for (img,mask) in train_generator:\n",
        "        img,mask = adjustData(img,mask,flag_multi_class,num_class)\n",
        "        yield (img,mask)\n"
      ]
    },
    {
      "cell_type": "code",
      "execution_count": null,
      "metadata": {
        "id": "EpywYppsxqn0"
      },
      "outputs": [],
      "source": [
        "\n",
        "def testGenerator(test_path,num_image = 30,target_size = (256,256),flag_multi_class = False,as_gray = True):\n",
        "    for i in range(num_image):\n",
        "        img = io.imread(os.path.join(test_path,\"%d.png\"%i),as_gray = as_gray)\n",
        "        img = img / 255\n",
        "        img = trans.resize(img,target_size)\n",
        "        img = np.reshape(img,img.shape+(1,)) if (not flag_multi_class) else img\n",
        "        img = np.reshape(img,(1,)+img.shape)\n",
        "        yield img\n"
      ]
    },
    {
      "cell_type": "code",
      "execution_count": null,
      "metadata": {
        "id": "Tx6W-qpJxwEJ"
      },
      "outputs": [],
      "source": [
        "\n",
        "def geneTrainNpy(image_path,mask_path,flag_multi_class = False,num_class = 2,image_prefix = \"image\",mask_prefix = \"mask\",image_as_gray = True,mask_as_gray = True):\n",
        "    image_name_arr = glob.glob(os.path.join(image_path,\"%s*.png\"%image_prefix))\n",
        "    image_arr = []\n",
        "    mask_arr = []\n",
        "    for index,item in enumerate(image_name_arr):\n",
        "        img = io.imread(item,as_gray = image_as_gray)\n",
        "        img = np.reshape(img,img.shape + (1,)) if image_as_gray else img\n",
        "        mask = io.imread(item.replace(image_path,mask_path).replace(image_prefix,mask_prefix),as_gray = mask_as_gray)\n",
        "        mask = np.reshape(mask,mask.shape + (1,)) if mask_as_gray else mask\n",
        "        img,mask = adjustData(img,mask,flag_multi_class,num_class)\n",
        "        image_arr.append(img)\n",
        "        mask_arr.append(mask)\n",
        "    image_arr = np.array(image_arr)\n",
        "    mask_arr = np.array(mask_arr)\n",
        "    return image_arr,mask_arr\n"
      ]
    },
    {
      "cell_type": "code",
      "execution_count": null,
      "metadata": {
        "id": "qXtC2dpLxxx_"
      },
      "outputs": [],
      "source": [
        "\n",
        "def labelVisualize(num_class,color_dict,img):\n",
        "    img = img[:,:,0] if len(img.shape) == 3 else img\n",
        "    img_out = np.zeros(img.shape + (3,))\n",
        "    for i in range(num_class):\n",
        "        img_out[img == i,:] = color_dict[i]\n",
        "    return img_out / 255"
      ]
    },
    {
      "cell_type": "code",
      "execution_count": null,
      "metadata": {
        "id": "p5plaMSSyJ7f"
      },
      "outputs": [],
      "source": [
        "\n",
        "data_gen_args = dict(rotation_range=0.2,\n",
        "                    width_shift_range=0.05,\n",
        "                    height_shift_range=0.05,\n",
        "                    shear_range=0.05,\n",
        "                    zoom_range=0.05,\n",
        "                    horizontal_flip=True,\n",
        "                    fill_mode='nearest')"
      ]
    },
    {
      "cell_type": "code",
      "execution_count": null,
      "metadata": {
        "id": "_buRB52uyO5h"
      },
      "outputs": [],
      "source": [
        "myGene = trainGenerator(2,'kitti_pixel_level_semantic/prepared_data/training/','image','mask',data_gen_args,save_to_dir = None)"
      ]
    },
    {
      "cell_type": "code",
      "execution_count": null,
      "metadata": {
        "id": "x6fX4prlyjcW"
      },
      "outputs": [],
      "source": [
        "import tensorflow as tf\n",
        "from keras.models import *\n",
        "from keras.layers import *\n",
        "from keras.optimizers import *\n",
        "from keras.callbacks import ModelCheckpoint, LearningRateScheduler\n",
        "\n",
        "def unet(pretrained_weights = None,input_size = (256,256,1)):\n",
        "    inputs = Input(input_size)\n",
        "    conv1 = Conv2D(64, 3, activation = 'relu', padding = 'same', kernel_initializer = 'he_normal')(inputs)\n",
        "    conv1 = Conv2D(64, 3, activation = 'relu', padding = 'same', kernel_initializer = 'he_normal')(conv1)\n",
        "    pool1 = MaxPooling2D(pool_size=(2, 2))(conv1)\n",
        "    conv2 = Conv2D(128, 3, activation = 'relu', padding = 'same', kernel_initializer = 'he_normal')(pool1)\n",
        "    conv2 = Conv2D(128, 3, activation = 'relu', padding = 'same', kernel_initializer = 'he_normal')(conv2)\n",
        "    pool2 = MaxPooling2D(pool_size=(2, 2))(conv2)\n",
        "    conv3 = Conv2D(256, 3, activation = 'relu', padding = 'same', kernel_initializer = 'he_normal')(pool2)\n",
        "    conv3 = Conv2D(256, 3, activation = 'relu', padding = 'same', kernel_initializer = 'he_normal')(conv3)\n",
        "    pool3 = MaxPooling2D(pool_size=(2, 2))(conv3)\n",
        "    conv4 = Conv2D(512, 3, activation = 'relu', padding = 'same', kernel_initializer = 'he_normal')(pool3)\n",
        "    conv4 = Conv2D(512, 3, activation = 'relu', padding = 'same', kernel_initializer = 'he_normal')(conv4)\n",
        "    drop4 = Dropout(0.5)(conv4)\n",
        "    pool4 = MaxPooling2D(pool_size=(2, 2))(drop4)\n",
        "\n",
        "    conv5 = Conv2D(1024, 3, activation = 'relu', padding = 'same', kernel_initializer = 'he_normal')(pool4)\n",
        "    conv5 = Conv2D(1024, 3, activation = 'relu', padding = 'same', kernel_initializer = 'he_normal')(conv5)\n",
        "    drop5 = Dropout(0.5)(conv5)\n",
        "\n",
        "    up6 = Conv2D(512, 2, activation = 'relu', padding = 'same', kernel_initializer = 'he_normal')(UpSampling2D(size = (2,2))(drop5))\n",
        "    merge6 = concatenate([drop4,up6], axis = 3)\n",
        "    conv6 = Conv2D(512, 3, activation = 'relu', padding = 'same', kernel_initializer = 'he_normal')(merge6)\n",
        "    conv6 = Conv2D(512, 3, activation = 'relu', padding = 'same', kernel_initializer = 'he_normal')(conv6)\n",
        "\n",
        "    up7 = Conv2D(256, 2, activation = 'relu', padding = 'same', kernel_initializer = 'he_normal')(UpSampling2D(size = (2,2))(conv6))\n",
        "    merge7 = concatenate([conv3,up7], axis = 3)\n",
        "    conv7 = Conv2D(256, 3, activation = 'relu', padding = 'same', kernel_initializer = 'he_normal')(merge7)\n",
        "    conv7 = Conv2D(256, 3, activation = 'relu', padding = 'same', kernel_initializer = 'he_normal')(conv7)\n",
        "\n",
        "    up8 = Conv2D(128, 2, activation = 'relu', padding = 'same', kernel_initializer = 'he_normal')(UpSampling2D(size = (2,2))(conv7))\n",
        "    merge8 = concatenate([conv2,up8], axis = 3)\n",
        "    conv8 = Conv2D(128, 3, activation = 'relu', padding = 'same', kernel_initializer = 'he_normal')(merge8)\n",
        "    conv8 = Conv2D(128, 3, activation = 'relu', padding = 'same', kernel_initializer = 'he_normal')(conv8)\n",
        "\n",
        "    up9 = Conv2D(64, 2, activation = 'relu', padding = 'same', kernel_initializer = 'he_normal')(UpSampling2D(size = (2,2))(conv8))\n",
        "    merge9 = concatenate([conv1,up9], axis = 3)\n",
        "    conv9 = Conv2D(64, 3, activation = 'relu', padding = 'same', kernel_initializer = 'he_normal')(merge9)\n",
        "    conv9 = Conv2D(64, 3, activation = 'relu', padding = 'same', kernel_initializer = 'he_normal')(conv9)\n",
        "    conv9 = Conv2D(2, 3, activation = 'relu', padding = 'same', kernel_initializer = 'he_normal')(conv9)\n",
        "    conv10 = Conv2D(1, 1, activation = 'sigmoid')(conv9)\n",
        "\n",
        "    model = Model(inputs = inputs, outputs = conv10)\n",
        "\n",
        "    model.compile(optimizer = Adam(lr = 1e-4), loss = 'binary_crossentropy', metrics = ['accuracy'])\n",
        "    \n",
        "    model.summary()\n",
        "\n",
        "    return model\n"
      ]
    },
    {
      "cell_type": "code",
      "execution_count": null,
      "metadata": {
        "colab": {
          "base_uri": "https://localhost:8080/"
        },
        "id": "dy5PV-YtzD-E",
        "outputId": "2fe271b0-827d-4c80-dd0e-e78e5e9fcb46"
      },
      "outputs": [
        {
          "name": "stdout",
          "output_type": "stream",
          "text": [
            "Model: \"model\"\n",
            "__________________________________________________________________________________________________\n",
            " Layer (type)                   Output Shape         Param #     Connected to                     \n",
            "==================================================================================================\n",
            " input_1 (InputLayer)           [(None, 256, 256, 1  0           []                               \n",
            "                                )]                                                                \n",
            "                                                                                                  \n",
            " conv2d (Conv2D)                (None, 256, 256, 64  640         ['input_1[0][0]']                \n",
            "                                )                                                                 \n",
            "                                                                                                  \n",
            " conv2d_1 (Conv2D)              (None, 256, 256, 64  36928       ['conv2d[0][0]']                 \n",
            "                                )                                                                 \n",
            "                                                                                                  \n",
            " max_pooling2d (MaxPooling2D)   (None, 128, 128, 64  0           ['conv2d_1[0][0]']               \n",
            "                                )                                                                 \n",
            "                                                                                                  \n",
            " conv2d_2 (Conv2D)              (None, 128, 128, 12  73856       ['max_pooling2d[0][0]']          \n",
            "                                8)                                                                \n",
            "                                                                                                  \n",
            " conv2d_3 (Conv2D)              (None, 128, 128, 12  147584      ['conv2d_2[0][0]']               \n",
            "                                8)                                                                \n",
            "                                                                                                  \n",
            " max_pooling2d_1 (MaxPooling2D)  (None, 64, 64, 128)  0          ['conv2d_3[0][0]']               \n",
            "                                                                                                  \n",
            " conv2d_4 (Conv2D)              (None, 64, 64, 256)  295168      ['max_pooling2d_1[0][0]']        \n",
            "                                                                                                  \n",
            " conv2d_5 (Conv2D)              (None, 64, 64, 256)  590080      ['conv2d_4[0][0]']               \n",
            "                                                                                                  \n",
            " max_pooling2d_2 (MaxPooling2D)  (None, 32, 32, 256)  0          ['conv2d_5[0][0]']               \n",
            "                                                                                                  \n",
            " conv2d_6 (Conv2D)              (None, 32, 32, 512)  1180160     ['max_pooling2d_2[0][0]']        \n",
            "                                                                                                  \n",
            " conv2d_7 (Conv2D)              (None, 32, 32, 512)  2359808     ['conv2d_6[0][0]']               \n",
            "                                                                                                  \n",
            " dropout (Dropout)              (None, 32, 32, 512)  0           ['conv2d_7[0][0]']               \n",
            "                                                                                                  \n",
            " max_pooling2d_3 (MaxPooling2D)  (None, 16, 16, 512)  0          ['dropout[0][0]']                \n",
            "                                                                                                  \n",
            " conv2d_8 (Conv2D)              (None, 16, 16, 1024  4719616     ['max_pooling2d_3[0][0]']        \n",
            "                                )                                                                 \n",
            "                                                                                                  \n",
            " conv2d_9 (Conv2D)              (None, 16, 16, 1024  9438208     ['conv2d_8[0][0]']               \n",
            "                                )                                                                 \n",
            "                                                                                                  \n",
            " dropout_1 (Dropout)            (None, 16, 16, 1024  0           ['conv2d_9[0][0]']               \n",
            "                                )                                                                 \n",
            "                                                                                                  \n",
            " up_sampling2d (UpSampling2D)   (None, 32, 32, 1024  0           ['dropout_1[0][0]']              \n",
            "                                )                                                                 \n",
            "                                                                                                  \n",
            " conv2d_10 (Conv2D)             (None, 32, 32, 512)  2097664     ['up_sampling2d[0][0]']          \n",
            "                                                                                                  \n",
            " concatenate (Concatenate)      (None, 32, 32, 1024  0           ['dropout[0][0]',                \n",
            "                                )                                 'conv2d_10[0][0]']              \n",
            "                                                                                                  \n",
            " conv2d_11 (Conv2D)             (None, 32, 32, 512)  4719104     ['concatenate[0][0]']            \n",
            "                                                                                                  \n",
            " conv2d_12 (Conv2D)             (None, 32, 32, 512)  2359808     ['conv2d_11[0][0]']              \n",
            "                                                                                                  \n",
            " up_sampling2d_1 (UpSampling2D)  (None, 64, 64, 512)  0          ['conv2d_12[0][0]']              \n",
            "                                                                                                  \n",
            " conv2d_13 (Conv2D)             (None, 64, 64, 256)  524544      ['up_sampling2d_1[0][0]']        \n",
            "                                                                                                  \n",
            " concatenate_1 (Concatenate)    (None, 64, 64, 512)  0           ['conv2d_5[0][0]',               \n",
            "                                                                  'conv2d_13[0][0]']              \n",
            "                                                                                                  \n",
            " conv2d_14 (Conv2D)             (None, 64, 64, 256)  1179904     ['concatenate_1[0][0]']          \n",
            "                                                                                                  \n",
            " conv2d_15 (Conv2D)             (None, 64, 64, 256)  590080      ['conv2d_14[0][0]']              \n",
            "                                                                                                  \n",
            " up_sampling2d_2 (UpSampling2D)  (None, 128, 128, 25  0          ['conv2d_15[0][0]']              \n",
            "                                6)                                                                \n",
            "                                                                                                  \n",
            " conv2d_16 (Conv2D)             (None, 128, 128, 12  131200      ['up_sampling2d_2[0][0]']        \n",
            "                                8)                                                                \n",
            "                                                                                                  \n",
            " concatenate_2 (Concatenate)    (None, 128, 128, 25  0           ['conv2d_3[0][0]',               \n",
            "                                6)                                'conv2d_16[0][0]']              \n",
            "                                                                                                  \n",
            " conv2d_17 (Conv2D)             (None, 128, 128, 12  295040      ['concatenate_2[0][0]']          \n",
            "                                8)                                                                \n",
            "                                                                                                  \n",
            " conv2d_18 (Conv2D)             (None, 128, 128, 12  147584      ['conv2d_17[0][0]']              \n",
            "                                8)                                                                \n",
            "                                                                                                  \n",
            " up_sampling2d_3 (UpSampling2D)  (None, 256, 256, 12  0          ['conv2d_18[0][0]']              \n",
            "                                8)                                                                \n",
            "                                                                                                  \n",
            " conv2d_19 (Conv2D)             (None, 256, 256, 64  32832       ['up_sampling2d_3[0][0]']        \n",
            "                                )                                                                 \n",
            "                                                                                                  \n",
            " concatenate_3 (Concatenate)    (None, 256, 256, 12  0           ['conv2d_1[0][0]',               \n",
            "                                8)                                'conv2d_19[0][0]']              \n",
            "                                                                                                  \n",
            " conv2d_20 (Conv2D)             (None, 256, 256, 64  73792       ['concatenate_3[0][0]']          \n",
            "                                )                                                                 \n",
            "                                                                                                  \n",
            " conv2d_21 (Conv2D)             (None, 256, 256, 64  36928       ['conv2d_20[0][0]']              \n",
            "                                )                                                                 \n",
            "                                                                                                  \n",
            " conv2d_22 (Conv2D)             (None, 256, 256, 2)  1154        ['conv2d_21[0][0]']              \n",
            "                                                                                                  \n",
            " conv2d_23 (Conv2D)             (None, 256, 256, 1)  3           ['conv2d_22[0][0]']              \n",
            "                                                                                                  \n",
            "==================================================================================================\n",
            "Total params: 31,031,685\n",
            "Trainable params: 31,031,685\n",
            "Non-trainable params: 0\n",
            "__________________________________________________________________________________________________\n"
          ]
        },
        {
          "name": "stderr",
          "output_type": "stream",
          "text": [
            "/usr/local/lib/python3.10/dist-packages/keras/optimizers/legacy/adam.py:117: UserWarning: The `lr` argument is deprecated, use `learning_rate` instead.\n",
            "  super().__init__(name, **kwargs)\n"
          ]
        }
      ],
      "source": [
        "model = unet()"
      ]
    },
    {
      "cell_type": "code",
      "execution_count": null,
      "metadata": {
        "colab": {
          "base_uri": "https://localhost:8080/"
        },
        "id": "4vlh2nUnhQxb",
        "outputId": "4637062f-7957-491e-fe15-e2c86fbfdee4"
      },
      "outputs": [
        {
          "name": "stdout",
          "output_type": "stream",
          "text": [
            "Mounted at /content/drive\n"
          ]
        }
      ],
      "source": [
        "from google.colab import drive\n",
        "drive.mount('/content/drive')"
      ]
    },
    {
      "cell_type": "code",
      "execution_count": null,
      "metadata": {
        "id": "cti2yYX7hcmY"
      },
      "outputs": [],
      "source": [
        "# Drive'da kaydedilecek dosya yolu\n",
        "drive_path = '/content/model_{epoch:02d}.h5'"
      ]
    },
    {
      "cell_type": "code",
      "execution_count": null,
      "metadata": {
        "colab": {
          "base_uri": "https://localhost:8080/"
        },
        "id": "ESHgtk4EzJNb",
        "outputId": "a9ead7ee-6686-4c4b-fd69-0e91ba4ac162"
      },
      "outputs": [
        {
          "name": "stdout",
          "output_type": "stream",
          "text": [
            "Epoch 1/30\n"
          ]
        },
        {
          "name": "stderr",
          "output_type": "stream",
          "text": [
            "<ipython-input-20-fe9c1b38c86a>:2: UserWarning: `Model.fit_generator` is deprecated and will be removed in a future version. Please use `Model.fit`, which supports generators.\n",
            "  model.fit_generator(myGene,steps_per_epoch=300,epochs=30,callbacks=[model_checkpoint])\n"
          ]
        },
        {
          "name": "stdout",
          "output_type": "stream",
          "text": [
            "300/300 [==============================] - ETA: 0s - loss: 0.0672 - accuracy: 0.9748\n",
            "Epoch 1: saving model to /content/model_01.h5\n",
            "300/300 [==============================] - 59s 196ms/step - loss: 0.0672 - accuracy: 0.9748\n",
            "Epoch 2/30\n",
            "300/300 [==============================] - ETA: 0s - loss: 0.0384 - accuracy: 0.9856\n",
            "Epoch 2: saving model to /content/model_02.h5\n",
            "300/300 [==============================] - 58s 193ms/step - loss: 0.0384 - accuracy: 0.9856\n",
            "Epoch 3/30\n",
            "300/300 [==============================] - ETA: 0s - loss: 0.0321 - accuracy: 0.9877\n",
            "Epoch 3: saving model to /content/model_03.h5\n",
            "300/300 [==============================] - 63s 210ms/step - loss: 0.0321 - accuracy: 0.9877\n",
            "Epoch 4/30\n",
            "300/300 [==============================] - ETA: 0s - loss: 0.0213 - accuracy: 0.9916\n",
            "Epoch 4: saving model to /content/model_04.h5\n",
            "300/300 [==============================] - 58s 195ms/step - loss: 0.0213 - accuracy: 0.9916\n",
            "Epoch 5/30\n",
            "300/300 [==============================] - ETA: 0s - loss: 0.0196 - accuracy: 0.9922\n",
            "Epoch 5: saving model to /content/model_05.h5\n",
            "300/300 [==============================] - 63s 209ms/step - loss: 0.0196 - accuracy: 0.9922\n",
            "Epoch 6/30\n",
            "300/300 [==============================] - ETA: 0s - loss: 0.0197 - accuracy: 0.9921\n",
            "Epoch 6: saving model to /content/model_06.h5\n",
            "300/300 [==============================] - 59s 195ms/step - loss: 0.0197 - accuracy: 0.9921\n",
            "Epoch 7/30\n",
            "300/300 [==============================] - ETA: 0s - loss: 0.0176 - accuracy: 0.9929\n",
            "Epoch 7: saving model to /content/model_07.h5\n",
            "300/300 [==============================] - 58s 194ms/step - loss: 0.0176 - accuracy: 0.9929\n",
            "Epoch 8/30\n",
            "300/300 [==============================] - ETA: 0s - loss: 0.0168 - accuracy: 0.9932\n",
            "Epoch 8: saving model to /content/model_08.h5\n",
            "300/300 [==============================] - 63s 209ms/step - loss: 0.0168 - accuracy: 0.9932\n",
            "Epoch 9/30\n",
            "300/300 [==============================] - ETA: 0s - loss: 0.0170 - accuracy: 0.9932\n",
            "Epoch 9: saving model to /content/model_09.h5\n",
            "300/300 [==============================] - 60s 201ms/step - loss: 0.0170 - accuracy: 0.9932\n",
            "Epoch 10/30\n",
            "300/300 [==============================] - ETA: 0s - loss: 0.0196 - accuracy: 0.9923\n",
            "Epoch 10: saving model to /content/model_10.h5\n",
            "300/300 [==============================] - 59s 195ms/step - loss: 0.0196 - accuracy: 0.9923\n",
            "Epoch 11/30\n",
            "300/300 [==============================] - ETA: 0s - loss: 0.0949 - accuracy: 0.9665\n",
            "Epoch 11: saving model to /content/model_11.h5\n",
            "300/300 [==============================] - 58s 195ms/step - loss: 0.0949 - accuracy: 0.9665\n",
            "Epoch 12/30\n",
            "300/300 [==============================] - ETA: 0s - loss: 0.0237 - accuracy: 0.9908\n",
            "Epoch 12: saving model to /content/model_12.h5\n",
            "300/300 [==============================] - 63s 208ms/step - loss: 0.0237 - accuracy: 0.9908\n",
            "Epoch 13/30\n",
            "300/300 [==============================] - ETA: 0s - loss: 0.0179 - accuracy: 0.9929\n",
            "Epoch 13: saving model to /content/model_13.h5\n",
            "300/300 [==============================] - 59s 195ms/step - loss: 0.0179 - accuracy: 0.9929\n",
            "Epoch 14/30\n",
            "300/300 [==============================] - ETA: 0s - loss: 0.0166 - accuracy: 0.9934\n",
            "Epoch 14: saving model to /content/model_14.h5\n",
            "300/300 [==============================] - 58s 193ms/step - loss: 0.0166 - accuracy: 0.9934\n",
            "Epoch 15/30\n",
            "300/300 [==============================] - ETA: 0s - loss: 0.0168 - accuracy: 0.9934\n",
            "Epoch 15: saving model to /content/model_15.h5\n",
            "300/300 [==============================] - 63s 209ms/step - loss: 0.0168 - accuracy: 0.9934\n",
            "Epoch 16/30\n",
            "300/300 [==============================] - ETA: 0s - loss: 0.0162 - accuracy: 0.9935\n",
            "Epoch 16: saving model to /content/model_16.h5\n",
            "300/300 [==============================] - 58s 194ms/step - loss: 0.0162 - accuracy: 0.9935\n",
            "Epoch 17/30\n",
            "300/300 [==============================] - ETA: 0s - loss: 0.0151 - accuracy: 0.9938\n",
            "Epoch 17: saving model to /content/model_17.h5\n",
            "300/300 [==============================] - 58s 195ms/step - loss: 0.0151 - accuracy: 0.9938\n",
            "Epoch 18/30\n",
            "300/300 [==============================] - ETA: 0s - loss: 0.0158 - accuracy: 0.9937\n",
            "Epoch 18: saving model to /content/model_18.h5\n",
            "300/300 [==============================] - 58s 194ms/step - loss: 0.0158 - accuracy: 0.9937\n",
            "Epoch 19/30\n",
            "300/300 [==============================] - ETA: 0s - loss: 0.0146 - accuracy: 0.9940\n",
            "Epoch 19: saving model to /content/model_19.h5\n",
            "300/300 [==============================] - 58s 194ms/step - loss: 0.0146 - accuracy: 0.9940\n",
            "Epoch 20/30\n",
            "300/300 [==============================] - ETA: 0s - loss: 0.0228 - accuracy: 0.9913\n",
            "Epoch 20: saving model to /content/model_20.h5\n",
            "300/300 [==============================] - 58s 195ms/step - loss: 0.0228 - accuracy: 0.9913\n",
            "Epoch 21/30\n",
            "300/300 [==============================] - ETA: 0s - loss: 0.0349 - accuracy: 0.9874\n",
            "Epoch 21: saving model to /content/model_21.h5\n",
            "300/300 [==============================] - 63s 209ms/step - loss: 0.0349 - accuracy: 0.9874\n",
            "Epoch 22/30\n",
            "300/300 [==============================] - ETA: 0s - loss: 0.0368 - accuracy: 0.9870\n",
            "Epoch 22: saving model to /content/model_22.h5\n",
            "300/300 [==============================] - 59s 195ms/step - loss: 0.0368 - accuracy: 0.9870\n",
            "Epoch 23/30\n",
            "300/300 [==============================] - ETA: 0s - loss: 0.0184 - accuracy: 0.9928\n",
            "Epoch 23: saving model to /content/model_23.h5\n",
            "300/300 [==============================] - 58s 194ms/step - loss: 0.0184 - accuracy: 0.9928\n",
            "Epoch 24/30\n",
            "300/300 [==============================] - ETA: 0s - loss: 0.0158 - accuracy: 0.9937\n",
            "Epoch 24: saving model to /content/model_24.h5\n",
            "300/300 [==============================] - 59s 198ms/step - loss: 0.0158 - accuracy: 0.9937\n",
            "Epoch 25/30\n",
            "300/300 [==============================] - ETA: 0s - loss: 0.0136 - accuracy: 0.9944\n",
            "Epoch 25: saving model to /content/model_25.h5\n",
            "300/300 [==============================] - 58s 194ms/step - loss: 0.0136 - accuracy: 0.9944\n",
            "Epoch 26/30\n",
            "300/300 [==============================] - ETA: 0s - loss: 0.0132 - accuracy: 0.9946\n",
            "Epoch 26: saving model to /content/model_26.h5\n",
            "300/300 [==============================] - 59s 195ms/step - loss: 0.0132 - accuracy: 0.9946\n",
            "Epoch 27/30\n",
            "300/300 [==============================] - ETA: 0s - loss: 0.0132 - accuracy: 0.9946\n",
            "Epoch 27: saving model to /content/model_27.h5\n",
            "300/300 [==============================] - 58s 194ms/step - loss: 0.0132 - accuracy: 0.9946\n",
            "Epoch 28/30\n",
            "300/300 [==============================] - ETA: 0s - loss: 0.0142 - accuracy: 0.9943\n",
            "Epoch 28: saving model to /content/model_28.h5\n",
            "300/300 [==============================] - 58s 194ms/step - loss: 0.0142 - accuracy: 0.9943\n",
            "Epoch 29/30\n",
            "300/300 [==============================] - ETA: 0s - loss: 0.0305 - accuracy: 0.9886\n",
            "Epoch 29: saving model to /content/model_29.h5\n",
            "300/300 [==============================] - 63s 209ms/step - loss: 0.0305 - accuracy: 0.9886\n",
            "Epoch 30/30\n",
            "300/300 [==============================] - ETA: 0s - loss: 0.0149 - accuracy: 0.9940\n",
            "Epoch 30: saving model to /content/model_30.h5\n",
            "300/300 [==============================] - 63s 209ms/step - loss: 0.0149 - accuracy: 0.9940\n"
          ]
        },
        {
          "data": {
            "text/plain": [
              "<keras.callbacks.History at 0x7f6a8c0dbbb0>"
            ]
          },
          "execution_count": 20,
          "metadata": {},
          "output_type": "execute_result"
        }
      ],
      "source": [
        "model_checkpoint = ModelCheckpoint(drive_path, monitor='loss',verbose=1, save_best_only=False, mode=\"auto\")\n",
        "model.fit_generator(myGene,steps_per_epoch=300,epochs=30,callbacks=[model_checkpoint])"
      ]
    }
  ],
  "metadata": {
    "accelerator": "GPU",
    "colab": {
      "gpuType": "T4",
      "provenance": []
    },
    "kernelspec": {
      "display_name": "Python 3",
      "name": "python3"
    },
    "language_info": {
      "codemirror_mode": {
        "name": "ipython",
        "version": 3
      },
      "file_extension": ".py",
      "mimetype": "text/x-python",
      "name": "python",
      "nbconvert_exporter": "python",
      "pygments_lexer": "ipython3",
      "version": "3.11.3"
    }
  },
  "nbformat": 4,
  "nbformat_minor": 0
}
