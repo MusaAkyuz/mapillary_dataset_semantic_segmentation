{
 "cells": [
  {
   "cell_type": "code",
   "execution_count": 1,
   "metadata": {},
   "outputs": [],
   "source": [
    "import os\n",
    "import cv2\n",
    "from utils.definitions import *"
   ]
  },
  {
   "cell_type": "code",
   "execution_count": 2,
   "metadata": {},
   "outputs": [],
   "source": [
    "def augment_data(path, save_path, shape=(256, 256), gray=True):\n",
    "    # Get the list of all files in directory tree at given path\n",
    "    list_of_files = os.listdir(path)\n",
    "    \n",
    "    # Get full paths of all files in the directory tree\n",
    "    list_of_fullpaths = [os.path.join(path, i) for i in list_of_files]\n",
    "    \n",
    "    # Create the save path if it doesn't exist\n",
    "    if not os.path.exists(save_path):\n",
    "        os.makedirs(save_path)\n",
    "            \n",
    "    total_iterations = len(list_of_fullpaths)\n",
    "    \n",
    "    for index, file in enumerate(list_of_fullpaths):\n",
    "        # Read the image\n",
    "        img = cv2.imread(file)\n",
    "        \n",
    "        # Convert grayscale\n",
    "        if gray:\n",
    "            img = cv2.cvtColor(img, cv2.COLOR_BGR2GRAY)\n",
    "\n",
    "        # Resize the image\n",
    "        img = cv2.resize(img, shape, interpolation=cv2.INTER_NEAREST)\n",
    "\n",
    "        # Save the image\n",
    "        cv2.imwrite(os.path.join(save_path, os.path.basename(file)), img)\n",
    "        \n",
    "        # Progress bar update\n",
    "        progress_bar(index + 1, total_iterations, prefix='Progress:', suffix='Complete', length=20)\n",
    "    # Progress bar update\n",
    "    progress_bar(total_iterations, total_iterations, prefix='Progress:', suffix='Complete', length=20)\n",
    "    "
   ]
  },
  {
   "cell_type": "code",
   "execution_count": null,
   "metadata": {},
   "outputs": [],
   "source": [
    "augment_data(TRAIN_IMAGE, \"./augmented_data/training/images/\", shape=(1024, 256), gray=True)"
   ]
  },
  {
   "cell_type": "code",
   "execution_count": null,
   "metadata": {},
   "outputs": [],
   "source": [
    "augment_data(TRAIN_LABEL, \"./augmented_data/training/labels/\", shape=(1024, 256), gray=False)"
   ]
  },
  {
   "cell_type": "code",
   "execution_count": null,
   "metadata": {},
   "outputs": [],
   "source": [
    "augment_data(VALID_IMAGE, \"./augmented_data/validation/images/\", shape=(1024, 256), gray=True)"
   ]
  },
  {
   "cell_type": "code",
   "execution_count": null,
   "metadata": {},
   "outputs": [],
   "source": [
    "augment_data(VALID_LABEL, \"./augmented_data/validation/labels/\", shape=(1024, 256), gray=False)"
   ]
  },
  {
   "cell_type": "code",
   "execution_count": null,
   "metadata": {},
   "outputs": [],
   "source": [
    "augment_data(TEST_IMAGE, \"./augmented_data/testing/images/\", shape=(1024, 256), gray=True)"
   ]
  },
  {
   "cell_type": "code",
   "execution_count": null,
   "metadata": {},
   "outputs": [],
   "source": [
    "augment_data(TEST_LABEL, \"./augmented_data/testing/labels/\", shape=(1024, 256), gray=False)"
   ]
  }
 ],
 "metadata": {
  "kernelspec": {
   "display_name": "Python 3",
   "language": "python",
   "name": "python3"
  },
  "language_info": {
   "codemirror_mode": {
    "name": "ipython",
    "version": 3
   },
   "file_extension": ".py",
   "mimetype": "text/x-python",
   "name": "python",
   "nbconvert_exporter": "python",
   "pygments_lexer": "ipython3",
   "version": "3.11.3"
  },
  "orig_nbformat": 4
 },
 "nbformat": 4,
 "nbformat_minor": 2
}
